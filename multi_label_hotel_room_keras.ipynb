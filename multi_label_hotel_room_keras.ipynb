{
 "cells": [
  {
   "cell_type": "markdown",
   "metadata": {
    "colab_type": "text",
    "id": "view-in-github",
    "pycharm": {}
   },
   "source": [
    "## Multi-label hotel room name classification"
   ]
  },
  {
   "cell_type": "code",
   "execution_count": 118,
   "metadata": {
    "pycharm": {}
   },
   "outputs": [],
   "source": [
    "# uncomment the following if the environment is missing any of the dependencies\n",
    "# !pip install tensorflow-hub\n",
    "# !pip install pandas\n",
    "# !pip install matplotlib\n",
    "# !pip install sklearn"
   ]
  },
  {
   "cell_type": "code",
   "execution_count": 122,
   "metadata": {
    "colab": {
     "base_uri": "https://localhost:8080/",
     "height": 85
    },
    "colab_type": "code",
    "id": "bgTIEHV99wS3",
    "outputId": "372ee48f-c3be-4c68-d920-b860a4cbf8c5",
    "pycharm": {},
    "scrolled": true
   },
   "outputs": [
    {
     "name": "stdout",
     "output_type": "stream",
     "text": [
      "Version:  1.13.1\n",
      "Eager mode:  False\n",
      "Hub version:  0.4.0\n",
      "GPU is NOT AVAILABLE\n"
     ]
    }
   ],
   "source": [
    "from __future__ import absolute_import, division, print_function\n",
    "\n",
    "import numpy as np\n",
    "\n",
    "import tensorflow as tf\n",
    "import tensorflow_hub as hub\n",
    "import pandas as pd\n",
    "import datetime, os\n",
    "\n",
    "from sklearn.model_selection import train_test_split\n",
    "\n",
    "import matplotlib.pyplot as plt\n",
    "\n",
    "print(\"Version: \", tf.__version__)\n",
    "print(\"Eager mode: \", tf.executing_eagerly())\n",
    "print(\"Hub version: \", hub.__version__)\n",
    "print(\"GPU is\", \"available\" if tf.test.is_gpu_available() else \"NOT AVAILABLE\")"
   ]
  },
  {
   "cell_type": "markdown",
   "metadata": {},
   "source": [
    "### Step 1. Loading the dataset\n",
    "\n",
    "We need to load the dataset used by this project\n",
    "\n",
    "1. Define the functions used to load the csv data"
   ]
  },
  {
   "cell_type": "code",
   "execution_count": 123,
   "metadata": {
    "colab": {},
    "colab_type": "code",
    "id": "VI-7JDGQ96TB",
    "pycharm": {}
   },
   "outputs": [],
   "source": [
    "def load_project_datasets(force_download=False):\n",
    "  dataset = tf.keras.utils.get_file(\n",
    "      fname=\"source_data_labeled.zip\", \n",
    "      origin=\"https://github.com/x-wing/room-classify/raw/master/source_data_labeled.zip\", \n",
    "      cache_subdir='data',\n",
    "      extract=True,\n",
    "      cache_dir=\"./\")\n",
    "  \n",
    "  df_data = \\\n",
    "     pd.read_csv(dataset, usecols=['hotel id', 'room_name','labels'], \\\n",
    "                 dtype= { \"hotel_id\":np.uint8, \"room_name\": np.character,'labels':np.character})\n",
    "\n",
    "  return df_data\n",
    "\n",
    "def split_datasets(data, test_size=0.2):\n",
    "    return train_test_split(data, test_size, shuffle=true)\n",
    "\n",
    "def split_datasets_with_labels(x, y, t_size=0.2):\n",
    "    x_train, x_test, y_train, y_test = train_test_split(x, y, test_size=t_size, shuffle=True)\n",
    "    return x_train, x_test, y_train, y_test\n"
   ]
  },
  {
   "cell_type": "markdown",
   "metadata": {},
   "source": [
    "2. Invoke the functoin to load the source dataset from github repo\n",
    "3. Use a sample 10% (143207 records) of the whole dataset to reduce the time to run the overall project. It could take hours to finish one epoch if go with the whole dataset"
   ]
  },
  {
   "cell_type": "code",
   "execution_count": 124,
   "metadata": {
    "colab": {
     "base_uri": "https://localhost:8080/",
     "height": 238
    },
    "colab_type": "code",
    "id": "_RtoYEDJ-LeC",
    "outputId": "fd5aafa7-2540-462e-c1eb-a8dad6076772",
    "pycharm": {}
   },
   "outputs": [
    {
     "data": {
      "text/html": [
       "<div>\n",
       "<style scoped>\n",
       "    .dataframe tbody tr th:only-of-type {\n",
       "        vertical-align: middle;\n",
       "    }\n",
       "\n",
       "    .dataframe tbody tr th {\n",
       "        vertical-align: top;\n",
       "    }\n",
       "\n",
       "    .dataframe thead th {\n",
       "        text-align: right;\n",
       "    }\n",
       "</style>\n",
       "<table border=\"1\" class=\"dataframe\">\n",
       "  <thead>\n",
       "    <tr style=\"text-align: right;\">\n",
       "      <th></th>\n",
       "      <th>hotel id</th>\n",
       "      <th>room_name</th>\n",
       "      <th>labels</th>\n",
       "    </tr>\n",
       "  </thead>\n",
       "  <tbody>\n",
       "    <tr>\n",
       "      <th>317119</th>\n",
       "      <td>162</td>\n",
       "      <td>Premier Club Suite-King Bed</td>\n",
       "      <td>bdc_1 bdt_king rmt_suite rmt_premium rtf_free_...</td>\n",
       "    </tr>\n",
       "    <tr>\n",
       "      <th>1295600</th>\n",
       "      <td>190</td>\n",
       "      <td>Deluxe Double Room,1 Double Bed,Accessible,Smo...</td>\n",
       "      <td>rmf_smoking prmf_free_breakfast rmf_free_inter...</td>\n",
       "    </tr>\n",
       "    <tr>\n",
       "      <th>1064779</th>\n",
       "      <td>125</td>\n",
       "      <td>Suite,1 King Bed,Non Smoking,Kitchen Continent...</td>\n",
       "      <td>rmf_no_smoking prmf_free_breakfast bdc_1 bdt_k...</td>\n",
       "    </tr>\n",
       "    <tr>\n",
       "      <th>512499</th>\n",
       "      <td>121</td>\n",
       "      <td>2 Queen Beds Family Suite Non-Smoking NRF</td>\n",
       "      <td>rmf_no_smoking rtf_nrf bdc_2 bdt_queen rmt_sui...</td>\n",
       "    </tr>\n",
       "    <tr>\n",
       "      <th>7371</th>\n",
       "      <td>34</td>\n",
       "      <td>Standard Room,2 Queen Beds,Non Smoking Free Br...</td>\n",
       "      <td>rmf_no_smoking prmf_free_breakfast rmf_free_in...</td>\n",
       "    </tr>\n",
       "  </tbody>\n",
       "</table>\n",
       "</div>"
      ],
      "text/plain": [
       "         hotel id                                          room_name  \\\n",
       "317119        162                       Premier Club Suite-King Bed    \n",
       "1295600       190  Deluxe Double Room,1 Double Bed,Accessible,Smo...   \n",
       "1064779       125  Suite,1 King Bed,Non Smoking,Kitchen Continent...   \n",
       "512499        121          2 Queen Beds Family Suite Non-Smoking NRF   \n",
       "7371           34  Standard Room,2 Queen Beds,Non Smoking Free Br...   \n",
       "\n",
       "                                                    labels  \n",
       "317119   bdc_1 bdt_king rmt_suite rmt_premium rtf_free_...  \n",
       "1295600  rmf_smoking prmf_free_breakfast rmf_free_inter...  \n",
       "1064779  rmf_no_smoking prmf_free_breakfast bdc_1 bdt_k...  \n",
       "512499   rmf_no_smoking rtf_nrf bdc_2 bdt_queen rmt_sui...  \n",
       "7371     rmf_no_smoking prmf_free_breakfast rmf_free_in...  "
      ]
     },
     "execution_count": 124,
     "metadata": {},
     "output_type": "execute_result"
    }
   ],
   "source": [
    "data_df = load_project_datasets()\n",
    "data_df = data_df.sample(frac=0.10)\n",
    "data_df.head()"
   ]
  },
  {
   "cell_type": "code",
   "execution_count": 125,
   "metadata": {},
   "outputs": [
    {
     "data": {
      "text/plain": [
       "(143207, 3)"
      ]
     },
     "execution_count": 125,
     "metadata": {},
     "output_type": "execute_result"
    }
   ],
   "source": [
    "data_df.shape"
   ]
  },
  {
   "cell_type": "markdown",
   "metadata": {},
   "source": [
    "### Step 2. Data preparation\n",
    "\n",
    "We need to use the loaded dataset to extract labels to be used for the project\n",
    "\n",
    "1. Find all the labels"
   ]
  },
  {
   "cell_type": "code",
   "execution_count": 126,
   "metadata": {
    "colab": {},
    "colab_type": "code",
    "id": "GETEiATE-jXn",
    "pycharm": {}
   },
   "outputs": [],
   "source": [
    "from collections import Counter\n",
    "number_of_class = 10\n",
    "top_labels = Counter(\" \".join(data_df[\"labels\"]).split()).most_common(number_of_class)\n",
    "labels_dict = dict(top_labels)\n",
    "labels = labels_dict.keys()"
   ]
  },
  {
   "cell_type": "markdown",
   "metadata": {},
   "source": [
    "2. Update and run the following if need to specify labels to be used or skip this step to use default top 10 labels"
   ]
  },
  {
   "cell_type": "code",
   "execution_count": 127,
   "metadata": {
    "colab": {},
    "colab_type": "code",
    "id": "agt-sbk5AKf5",
    "pycharm": {}
   },
   "outputs": [],
   "source": [
    "selected_labels = [ \n",
    "    'rmt_title', 'rmt_suite', 'rmt_standard', 'rmt_deluxe','rmt_bedroom','rmt_studio','rmt_superior','rmt_apartment','rmt_triple','rmt_premium','rmt_quadruple','rmt_villa','rmt_bungalow','rmt_cottage','rmt_single','rmt_dorm',\n",
    "    'rmt_cabin', 'rmt_grand', 'rmt_mini', 'rmt_non_suite', 'rmt_parlor', 'rmt_penthouse', 'rmt_pod', 'rmt_residence', 'rmt_room', 'rmt_twin',\n",
    "    'bdt_king', 'bdt_double', 'bdt_queen', 'bdt_twin','bdt_single','bdt_full',\n",
    "    'bdc_more', 'rmc_more',\n",
    "    'prmf_free_breakfast','prmf_half_board','prmf_welcome_item','prmf_all_inclusive','prmf_full_board','prmf_free_dinner',\n",
    "    'rtf_other_item_or_credit_included','rtf_fee_included','rtf_free_parking',\n",
    "    'rmf_no_smoking','rmf_accessible','rmf_extra_bedding','rmf_smoking','rmf_balcony','rmf_terrace',\n",
    "    'rmv_good','rmv_better','rmv_standard','rmv_best','rmv_non']\n",
    "\n",
    "use_selected_labels = True"
   ]
  },
  {
   "cell_type": "code",
   "execution_count": 128,
   "metadata": {
    "colab": {
     "base_uri": "https://localhost:8080/",
     "height": 34
    },
    "colab_type": "code",
    "id": "OjJuwtE6-nLH",
    "outputId": "d8bf7138-2e99-47ad-cdab-41265cce13a4",
    "pycharm": {}
   },
   "outputs": [
    {
     "name": "stdout",
     "output_type": "stream",
     "text": [
      "['rtf_free_transport', 'rmt_room', 'bdc_1', 'rtf_nrf', 'rmf_free_internet', 'prmf_free_breakfast', 'rmf_no_smoking', 'rmt_title', 'bdt_king', 'rmt_suite']\n"
     ]
    }
   ],
   "source": [
    "print(list(labels))"
   ]
  },
  {
   "cell_type": "code",
   "execution_count": 129,
   "metadata": {
    "colab": {},
    "colab_type": "code",
    "id": "WfaA56NtArki",
    "pycharm": {}
   },
   "outputs": [],
   "source": [
    "if use_selected_labels==True:\n",
    "    active_labels = selected_labels\n",
    "    number_of_class = len(selected_labels)\n",
    "else:\n",
    "    active_labels = list(labels)"
   ]
  },
  {
   "cell_type": "markdown",
   "metadata": {},
   "source": [
    "3. Split the input data into training and testing sets"
   ]
  },
  {
   "cell_type": "code",
   "execution_count": 130,
   "metadata": {
    "colab": {},
    "colab_type": "code",
    "id": "h7IEgn_X-qMo",
    "pycharm": {}
   },
   "outputs": [],
   "source": [
    "data_label_df = data_df[\"labels\"].str.split()\n",
    "x_train, x_test, y_train, y_test = split_datasets_with_labels(data_df, data_label_df, 0.25)"
   ]
  },
  {
   "cell_type": "code",
   "execution_count": 131,
   "metadata": {
    "colab": {
     "base_uri": "https://localhost:8080/",
     "height": 34
    },
    "colab_type": "code",
    "id": "R7geXIbJ-zfw",
    "outputId": "15252d01-ae36-40f0-ae9e-7bf4cb0971f3",
    "pycharm": {}
   },
   "outputs": [
    {
     "name": "stdout",
     "output_type": "stream",
     "text": [
      "(107405, 3) (35802, 3) (107405,) (35802,)\n"
     ]
    }
   ],
   "source": [
    "print(x_train.shape, x_test.shape, y_train.shape, y_test.shape)"
   ]
  },
  {
   "cell_type": "code",
   "execution_count": 132,
   "metadata": {
    "colab": {
     "base_uri": "https://localhost:8080/",
     "height": 204
    },
    "colab_type": "code",
    "id": "d_nP3RVQA4vO",
    "outputId": "51726c64-ea10-40e9-85ab-ba26c28345b2",
    "pycharm": {}
   },
   "outputs": [
    {
     "data": {
      "text/plain": [
       "835732     1 Queen Bed Suite Non-Smoking - Free Internet ...\n",
       "37578      Standard Room,2 Queen Beds Continental Breakfa...\n",
       "445224                                         2 Queen Beds \n",
       "460493     1 Queen Mobility Hearing Accessible Tub Sofabe...\n",
       "465392     Executive Room - Free Internet In Room - Free ...\n",
       "1382120    Double or Twin Room,2 Twin Free Breakfast,Free...\n",
       "277144     Standard Room,1 King Bed Continental Breakfast...\n",
       "1131946    Deluxe Room,2 Twin Beds Free Breakfast,Free Pa...\n",
       "646214     Standard Room,1 King Bed Continental Breakfast...\n",
       "1107994    Double Room,Garden View Free Breakfast,Free In...\n",
       "Name: room_name, dtype: object"
      ]
     },
     "execution_count": 132,
     "metadata": {},
     "output_type": "execute_result"
    }
   ],
   "source": [
    "x_train['room_name'].head(10)"
   ]
  },
  {
   "cell_type": "markdown",
   "metadata": {},
   "source": [
    "4. Use MultiLabelBinarizer to encode labels into zeros and ones"
   ]
  },
  {
   "cell_type": "code",
   "execution_count": null,
   "metadata": {
    "colab": {
     "base_uri": "https://localhost:8080/",
     "height": 343
    },
    "colab_type": "code",
    "id": "qbI-1TYp-5Yw",
    "outputId": "867db29d-8638-41b9-a29e-6b2c33464e86",
    "pycharm": {}
   },
   "outputs": [],
   "source": [
    "from sklearn.preprocessing import MultiLabelBinarizer\n",
    "\n",
    "encoder = MultiLabelBinarizer(active_labels)\n",
    "encoder.fit_transform(y_train)\n",
    "train_encoded = encoder.transform(y_train)\n",
    "test_encoded = encoder.transform(y_test)\n",
    "num_classes = len(encoder.classes_)\n",
    "\n",
    "# Print all possible genres and the labels for the first movie in our training dataset\n",
    "# print(encoder.classes_)\n",
    "# print(train_encoded[0])"
   ]
  },
  {
   "cell_type": "markdown",
   "metadata": {},
   "source": [
    "5. change encoded labels into string type as required by the model later on"
   ]
  },
  {
   "cell_type": "code",
   "execution_count": 134,
   "metadata": {
    "colab": {},
    "colab_type": "code",
    "id": "E0keKCAUGi56",
    "pycharm": {}
   },
   "outputs": [],
   "source": [
    "train_encoded_f = train_encoded.astype(np.str)\n",
    "test_encoded_f = test_encoded.astype(np.str)"
   ]
  },
  {
   "cell_type": "markdown",
   "metadata": {},
   "source": [
    "### Step 3. Model setup\n",
    "\n",
    "Next, we need to specify tfhub module for encoding. Our final choice is universal-sentence-encoder (See in [TensorFlow Hub](https://tfhub.dev/google/universal-sentence-encoder/2))\n",
    "\n",
    "1. Create hub module\n",
    "2. Define embeding function to be used in Lambda express for input processing\n",
    "3. Create keras model\n",
    "4. Compile model with an optimizer (use tf.train.AdamOptimizer or tf.keras.optimizers.Adam), loss function, metrics\n"
   ]
  },
  {
   "cell_type": "code",
   "execution_count": 135,
   "metadata": {},
   "outputs": [
    {
     "data": {
      "text/plain": [
       "512"
      ]
     },
     "execution_count": 135,
     "metadata": {},
     "output_type": "execute_result"
    }
   ],
   "source": [
    "module_url = \"https://tfhub.dev/google/universal-sentence-encoder/2\"\n",
    "embed = hub.Module(module_url, trainable=False)\n",
    "embed_size = embed.get_output_info_dict()['default'].get_shape()[1].value\n",
    "embed_size\n",
    "\n",
    "# Example: uncomment to see the results of the embedding\n",
    "# embeddings = embed([\n",
    "#     \"King Accessible Tub Sofabed Non-Smoking - Free Internet In Room - Free Parking NRF\",\n",
    "#     \"Deluxe Room, 2 Double Beds, High Roller View Food/Beverage Credit\"])\n",
    "\n",
    "# with tf.Session() as session:\n",
    "#   session.run([tf.global_variables_initializer(), tf.tables_initializer()])\n",
    "#   message_embeddings = session.run(embed(messages))\n",
    "# print(message_embeddings)"
   ]
  },
  {
   "cell_type": "code",
   "execution_count": 106,
   "metadata": {},
   "outputs": [],
   "source": [
    "def embedding(x):\n",
    "    return embed(tf.squeeze(tf.cast(x, tf.string)), signature=\"default\", as_dict=True)[\"default\"]"
   ]
  },
  {
   "cell_type": "code",
   "execution_count": 114,
   "metadata": {
    "colab": {
     "base_uri": "https://localhost:8080/",
     "height": 255
    },
    "colab_type": "code",
    "id": "-qAmGjBrBTVM",
    "outputId": "44bd9215-749f-4277-eef5-1d9086fb8f50",
    "pycharm": {}
   },
   "outputs": [
    {
     "name": "stdout",
     "output_type": "stream",
     "text": [
      "INFO:tensorflow:Saver not created because there are no variables in the graph to restore\n"
     ]
    },
    {
     "name": "stderr",
     "output_type": "stream",
     "text": [
      "I0421 20:28:42.667616 11376 saver.py:1483] Saver not created because there are no variables in the graph to restore\n"
     ]
    },
    {
     "name": "stdout",
     "output_type": "stream",
     "text": [
      "_________________________________________________________________\n",
      "Layer (type)                 Output Shape              Param #   \n",
      "=================================================================\n",
      "input_6 (InputLayer)         (None, 1)                 0         \n",
      "_________________________________________________________________\n",
      "lambda_5 (Lambda)            (None, 512)               0         \n",
      "_________________________________________________________________\n",
      "dense_10 (Dense)             (None, 256)               131328    \n",
      "_________________________________________________________________\n",
      "dense_11 (Dense)             (None, 54)                13878     \n",
      "=================================================================\n",
      "Total params: 145,206\n",
      "Trainable params: 145,206\n",
      "Non-trainable params: 0\n",
      "_________________________________________________________________\n"
     ]
    }
   ],
   "source": [
    "input_text = tf.keras.layers.Input(shape=(1,), dtype=tf.string)\n",
    "hub_layer = tf.keras.layers.Lambda(embedding, output_shape=(embed_size,))(input_text)\n",
    "dense = tf.keras.layers.Dense(256, activation='relu')(hub_layer)\n",
    "pred = tf.keras.layers.Dense(num_classes, activation='sigmoid')(dense)\n",
    "model = tf.keras.Model(inputs=[input_text], outputs=pred)\n",
    "\n",
    "# prefer this way but can't get it to work with this particular way of input\n",
    "# model.compile(loss='categorical_crossentropy', optimizer='adam', metrics=['accuracy'])\n",
    "# model = tf.keras.Sequential()\n",
    "# model.add(tf.keras.layers.Dense(embed_size, input_shape=(1,)))\n",
    "# model.add(tf.keras.layers.Lambda(lambda x: UniversalEmbedding(x), output_shape=(embed_size,)))\n",
    "# model.add(tf.keras.layers.Dense(64, activation='relu'))\n",
    "# model.add(tf.keras.layers.Dropout(0.1))\n",
    "# model.add(tf.keras.layers.Dense(128, activation='relu'))\n",
    "# model.add(tf.keras.layers.Dense(num_classes, activation='sigmoid'))\n",
    "\n",
    "model.summary()"
   ]
  },
  {
   "cell_type": "code",
   "execution_count": 115,
   "metadata": {
    "colab": {},
    "colab_type": "code",
    "id": "49i5uVRRBk1t",
    "pycharm": {}
   },
   "outputs": [],
   "source": [
    "# model.compile(optimizer='adam', loss='binary_crossentropy', metrics=['accuracy']) # 'binary_accuracy' categorical_accuracy\n",
    "# adam = tf.keras.optimizers.Adam(lr=0.05, beta_1=0.99, beta_2=0.999, epsilon=None, decay=0.0001, amsgrad=False)\n",
    "adam =tf.train.AdamOptimizer(learning_rate=0.003, beta1=0.99, beta2=0.999)\n",
    "model.compile(optimizer=adam, loss='binary_crossentropy', metrics=['categorical_accuracy','binary_accuracy'])"
   ]
  },
  {
   "cell_type": "markdown",
   "metadata": {},
   "source": [
    "### Step 4. Run Model\n",
    "\n",
    "Here, we can run the model by loading previous weights with specified epochs and batch size. If need to save the model or the weights for the run, please uncomment the corresponding lines."
   ]
  },
  {
   "cell_type": "code",
   "execution_count": null,
   "metadata": {},
   "outputs": [],
   "source": [
    "with tf.Session() as session:\n",
    "  tf.keras.backend.set_session(session)\n",
    "  session.run(tf.global_variables_initializer())\n",
    "  session.run(tf.tables_initializer())\n",
    "  model.load_weights('./model_encoder_a.model')\n",
    "  history = model.fit(x_train['room_name'].values, \n",
    "            train_encoded_f,\n",
    "            validation_data=(x_test['room_name'].values, test_encoded_f),\n",
    "            epochs=50,\n",
    "            batch_size=128)\n",
    "  \n",
    "  results = model.evaluate(x_test['room_name'].values, test_encoded_f)\n",
    "\n",
    "#   model.save_weights('./model_encoder_a.model')\n",
    "#   model.save('model_encoder.h5')  \n"
   ]
  },
  {
   "cell_type": "code",
   "execution_count": 23,
   "metadata": {
    "pycharm": {}
   },
   "outputs": [],
   "source": [
    "# print(logdir)\n",
    "# !rm -rf ./tmp\n",
    "print(results)"
   ]
  },
  {
   "cell_type": "code",
   "execution_count": 67,
   "metadata": {
    "colab": {},
    "colab_type": "code",
    "id": "VEzEo1ArTSeP",
    "pycharm": {}
   },
   "outputs": [
    {
     "data": {
      "text/plain": [
       "dict_keys(['loss', 'categorical_accuracy', 'binary_accuracy', 'val_loss', 'val_categorical_accuracy', 'val_binary_accuracy'])"
      ]
     },
     "execution_count": 67,
     "metadata": {},
     "output_type": "execute_result"
    }
   ],
   "source": [
    "# show the history keys\n",
    "history_dict = history.history\n",
    "history_dict.keys()"
   ]
  },
  {
   "cell_type": "markdown",
   "metadata": {},
   "source": [
    "### Step 4. Model results\n",
    "\n",
    "1. Training and validation loss\n"
   ]
  },
  {
   "cell_type": "code",
   "execution_count": 68,
   "metadata": {
    "colab": {},
    "colab_type": "code",
    "id": "MutbX7jPTTqP",
    "pycharm": {}
   },
   "outputs": [
    {
     "data": {
      "image/png": "[encoded data removed]",
      "text/plain": [
       "<Figure size 432x288 with 1 Axes>"
      ]
     },
     "metadata": {
      "needs_background": "light"
     },
     "output_type": "display_data"
    }
   ],
   "source": [
    "acc = history_dict['categorical_accuracy']\n",
    "val_acc = history_dict['val_categorical_accuracy']\n",
    "loss = history_dict['loss']\n",
    "val_loss = history_dict['val_loss']\n",
    "\n",
    "epochs = range(1, len(acc) + 1)\n",
    "\n",
    "# \"bo\" is for \"blue dot\"\n",
    "plt.plot(epochs, loss, 'bo', label='Training loss')\n",
    "# b is for \"solid blue line\"\n",
    "plt.plot(epochs, val_loss, 'b', label='Validation loss')\n",
    "plt.title('Training and validation loss')\n",
    "plt.xlabel('Epochs')\n",
    "plt.ylabel('Loss')\n",
    "plt.legend()\n",
    "\n",
    "plt.show()"
   ]
  },
  {
   "cell_type": "markdown",
   "metadata": {},
   "source": [
    "2. Training and validation acccuracy"
   ]
  },
  {
   "cell_type": "code",
   "execution_count": 69,
   "metadata": {
    "colab": {},
    "colab_type": "code",
    "id": "J9x_7rA4TWln",
    "pycharm": {}
   },
   "outputs": [
    {
     "data": {
      "image/png": "[encoded data removed]",
      "text/plain": [
       "<Figure size 432x288 with 1 Axes>"
      ]
     },
     "metadata": {
      "needs_background": "light"
     },
     "output_type": "display_data"
    }
   ],
   "source": [
    "plt.clf()   # clear figure\n",
    "\n",
    "plt.plot(epochs, acc, 'bo', label='Training acc')\n",
    "plt.plot(epochs, val_acc, 'b', label='Validation acc')\n",
    "plt.title('Training and validation accuracy')\n",
    "plt.xlabel('Epochs')\n",
    "plt.ylabel('Accuracy')\n",
    "plt.legend()\n",
    "\n",
    "plt.show()"
   ]
  },
  {
   "cell_type": "markdown",
   "metadata": {},
   "source": [
    "3. Load and run saved model to ROC curve for first 3 classes "
   ]
  },
  {
   "cell_type": "code",
   "execution_count": 83,
   "metadata": {},
   "outputs": [],
   "source": [
    "# del model\n",
    "with tf.Session() as session:\n",
    "  tf.keras.backend.set_session(session)\n",
    "  session.run(tf.global_variables_initializer())\n",
    "  session.run(tf.tables_initializer())\n",
    "  model = tf.keras.models.load_model('model_encoder.h5')\n",
    "  y_pred = model.predict(x_test['room_name'].values)"
   ]
  },
  {
   "cell_type": "code",
   "execution_count": 109,
   "metadata": {},
   "outputs": [],
   "source": [
    "y_score = y_pred > 0.50\n",
    "y_score = y_score.astype(np.int)"
   ]
  },
  {
   "cell_type": "code",
   "execution_count": 110,
   "metadata": {},
   "outputs": [],
   "source": [
    "y_test = test_encoded_f=='1'\n",
    "y_test = y_test.astype(np.int)"
   ]
  },
  {
   "cell_type": "code",
   "execution_count": 111,
   "metadata": {},
   "outputs": [
    {
     "data": {
      "text/plain": [
       "array([0, 0, 0, ..., 1, 0, 0])"
      ]
     },
     "execution_count": 111,
     "metadata": {},
     "output_type": "execute_result"
    }
   ],
   "source": [
    "y_score[:,1]"
   ]
  },
  {
   "cell_type": "code",
   "execution_count": 112,
   "metadata": {},
   "outputs": [
    {
     "data": {
      "text/plain": [
       "array([0, 0, 0, ..., 1, 0, 0])"
      ]
     },
     "execution_count": 112,
     "metadata": {},
     "output_type": "execute_result"
    }
   ],
   "source": [
    "y_test[:,1]"
   ]
  },
  {
   "cell_type": "code",
   "execution_count": 113,
   "metadata": {},
   "outputs": [
    {
     "data": {
      "image/png": "[encoded data removed]",
      "text/plain": [
       "<Figure size 432x288 with 1 Axes>"
      ]
     },
     "metadata": {
      "needs_background": "light"
     },
     "output_type": "display_data"
    },
    {
     "data": {
      "image/png": "[encoded data removed]",
      "text/plain": [
       "<Figure size 432x288 with 1 Axes>"
      ]
     },
     "metadata": {
      "needs_background": "light"
     },
     "output_type": "display_data"
    }
   ],
   "source": [
    "from scipy import interp\n",
    "from itertools import cycle\n",
    "from sklearn.metrics import roc_curve, auc\n",
    "\n",
    "# Plot linewidth.\n",
    "lw = 2\n",
    "\n",
    "# Compute ROC curve and ROC area for each class\n",
    "n_classes = 3\n",
    "fpr = dict()\n",
    "tpr = dict()\n",
    "roc_auc = dict()\n",
    "for i in range(n_classes):\n",
    "    fpr[i], tpr[i], _ = roc_curve(y_test[:, i], y_score[:, i])\n",
    "    roc_auc[i] = auc(fpr[i], tpr[i])\n",
    "\n",
    "# Compute micro-average ROC curve and ROC area\n",
    "fpr[\"micro\"], tpr[\"micro\"], _ = roc_curve(y_test.ravel(), y_score.ravel())\n",
    "roc_auc[\"micro\"] = auc(fpr[\"micro\"], tpr[\"micro\"])\n",
    "\n",
    "# Compute macro-average ROC curve and ROC area\n",
    "\n",
    "# First aggregate all false positive rates\n",
    "all_fpr = np.unique(np.concatenate([fpr[i] for i in range(n_classes)]))\n",
    "\n",
    "# Then interpolate all ROC curves at this points\n",
    "mean_tpr = np.zeros_like(all_fpr)\n",
    "for i in range(n_classes):\n",
    "    mean_tpr += interp(all_fpr, fpr[i], tpr[i])\n",
    "\n",
    "# Finally average it and compute AUC\n",
    "mean_tpr /= n_classes\n",
    "\n",
    "fpr[\"macro\"] = all_fpr\n",
    "tpr[\"macro\"] = mean_tpr\n",
    "roc_auc[\"macro\"] = auc(fpr[\"macro\"], tpr[\"macro\"])\n",
    "\n",
    "# Plot all ROC curves\n",
    "plt.figure(1)\n",
    "plt.plot(fpr[\"micro\"], tpr[\"micro\"],\n",
    "         label='micro-average ROC curve (area = {0:0.2f})'\n",
    "               ''.format(roc_auc[\"micro\"]),\n",
    "         color='deeppink', linestyle=':', linewidth=4)\n",
    "\n",
    "plt.plot(fpr[\"macro\"], tpr[\"macro\"],\n",
    "         label='macro-average ROC curve (area = {0:0.2f})'\n",
    "               ''.format(roc_auc[\"macro\"]),\n",
    "         color='navy', linestyle=':', linewidth=4)\n",
    "\n",
    "colors = cycle(['aqua', 'darkorange', 'cornflowerblue'])\n",
    "for i, color in zip(range(n_classes), colors):\n",
    "    plt.plot(fpr[i], tpr[i], color=color, lw=lw,\n",
    "             label='ROC curve of class {0} (area = {1:0.2f})'\n",
    "             ''.format(i, roc_auc[i]))\n",
    "\n",
    "plt.plot([0, 1], [0, 1], 'k--', lw=lw)\n",
    "plt.xlim([0.0, 1.0])\n",
    "plt.ylim([0.0, 1.05])\n",
    "plt.xlabel('False Positive Rate')\n",
    "plt.ylabel('True Positive Rate')\n",
    "plt.title('Some extension of Receiver operating characteristic to multi-class')\n",
    "plt.legend(loc=\"lower right\")\n",
    "plt.show()\n",
    "\n",
    "\n",
    "# Zoom in view of the upper left corner.\n",
    "plt.figure(2)\n",
    "plt.xlim(0, 0.2)\n",
    "plt.ylim(0.8, 1)\n",
    "plt.plot(fpr[\"micro\"], tpr[\"micro\"],\n",
    "         label='micro-average ROC curve (area = {0:0.2f})'\n",
    "               ''.format(roc_auc[\"micro\"]),\n",
    "         color='deeppink', linestyle=':', linewidth=4)\n",
    "\n",
    "plt.plot(fpr[\"macro\"], tpr[\"macro\"],\n",
    "         label='macro-average ROC curve (area = {0:0.2f})'\n",
    "               ''.format(roc_auc[\"macro\"]),\n",
    "         color='navy', linestyle=':', linewidth=4)\n",
    "\n",
    "colors = cycle(['aqua', 'darkorange', 'cornflowerblue'])\n",
    "for i, color in zip(range(n_classes), colors):\n",
    "    plt.plot(fpr[i], tpr[i], color=color, lw=lw,\n",
    "             label='ROC curve of class {0} (area = {1:0.2f})'\n",
    "             ''.format(i, roc_auc[i]))\n",
    "\n",
    "plt.plot([0, 1], [0, 1], 'k--', lw=lw)\n",
    "plt.xlabel('False Positive Rate')\n",
    "plt.ylabel('True Positive Rate')\n",
    "plt.title('Some extension of Receiver operating characteristic to multi-class')\n",
    "plt.legend(loc=\"lower right\")\n",
    "plt.show()"
   ]
  },
  {
   "cell_type": "markdown",
   "metadata": {},
   "source": [
    "5. Show the model prediction in action with some example data entries"
   ]
  },
  {
   "cell_type": "code",
   "execution_count": 48,
   "metadata": {
    "pycharm": {}
   },
   "outputs": [],
   "source": [
    "# To save model\n",
    "# model.save('my_tf5_model.h5')"
   ]
  },
  {
   "cell_type": "code",
   "execution_count": 97,
   "metadata": {
    "pycharm": {}
   },
   "outputs": [],
   "source": [
    "# raw_test = [\n",
    "#     \"King Accessible Tub Sofabed Non-Smoking - Free Internet In Room - Free Parking NRF\", # King\n",
    "#     \"Deluxe Villa,6 Bedrooms,River View,Garden Area Free Parking,Free Wireless Internet,NRF\", # Deluxe Villa\n",
    "#     \"Superior Double with Balcony NRF\", # Superior, Double\n",
    "#     \"Wonderful King Ocean Front - Free Airport Shuttle - Non-Refundable\", # King\n",
    "#     \"Room,1 King Bed with Sofa bed,Non Smoking,Refrigerator & Microwave,1 Full\"\n",
    "# ]\n",
    "\n",
    "raw_test = [\n",
    "\"Deluxe Room, 2 Double Beds, Smoking\",\n",
    "\"Deluxe Room, 2 Double Beds, Smoking Food/Beverage Credit\",\n",
    "\"Deluxe Room, 2 Double Beds, Non Smoking, Strip View\",                 \n",
    "\"Deluxe Room, 2 Double Beds, Non Smoking, Strip View Food/Beverage Credit\",\n",
    "\"Deluxe Room, 2 Double Beds, High Roller View\", \n",
    "\"Deluxe Room, 2 Double Beds, High Roller View Food/Beverage Credit\",\n",
    "\"Deluxe Room, 2 Queen Beds, Non Smoking\",        \n",
    "\"Deluxe Room, 2 Queen Beds, Non Smoking Food/Beverage Credit\",\n",
    "\"Deluxe Room, 1 King Bed, Non Smoking, High Roller View\",              \n",
    "\"Deluxe Room, 1 King Bed, Non Smoking, High Roller View Food/Beverage Credit\",\n",
    "\"Deluxe Room, 2 Queen Beds, High Roller View\",\n",
    "\"Deluxe Room, 2 Queen Beds, High Roller View Food/Beverage Credit\",\n",
    "\"Luxury Room, 1 King Bed, Non Smoking\",         \n",
    "\"Luxury Room, 1 King Bed, Non Smoking Food/Beverage Credit\",\n",
    "\"Luxury Room, 2 Double Beds, Non Smoking\",                \n",
    "\"Luxury Room, 2 Double Beds, Non Smoking Food/Beverage Credit\",\n",
    "\"Suite, 1 King Bed, Non Smoking\",             \n",
    "\"Deluxe Bungalow, 1 King Bed, Non Smoking, Poolside\",\n",
    "\"Deluxe Poolside Cabana, 2 Doubles, Non-Smoking\"\n",
    "]\n"
   ]
  },
  {
   "cell_type": "code",
   "execution_count": null,
   "metadata": {
    "pycharm": {}
   },
   "outputs": [],
   "source": [
    "# predict_input_fn = tf.estimator.inputs.numpy_input_fn({\"room_name\": np.array(raw_test).astype(np.str)}, shuffle=False)\n",
    "results = model.predict(np.array(raw_test))"
   ]
  },
  {
   "cell_type": "code",
   "execution_count": 98,
   "metadata": {},
   "outputs": [
    {
     "name": "stdout",
     "output_type": "stream",
     "text": [
      "INFO:tensorflow:Saver not created because there are no variables in the graph to restore\n"
     ]
    },
    {
     "name": "stderr",
     "output_type": "stream",
     "text": [
      "I0421 19:47:40.970900 11376 saver.py:1483] Saver not created because there are no variables in the graph to restore\n"
     ]
    }
   ],
   "source": [
    "# del model\n",
    "with tf.Session() as session:\n",
    "  tf.keras.backend.set_session(session)\n",
    "  session.run(tf.global_variables_initializer())\n",
    "  session.run(tf.tables_initializer())\n",
    "  model = tf.keras.models.load_model('model_encoder.h5')\n",
    "  results = model.predict(np.array(raw_test))"
   ]
  },
  {
   "cell_type": "code",
   "execution_count": 103,
   "metadata": {
    "pycharm": {}
   },
   "outputs": [
    {
     "name": "stdout",
     "output_type": "stream",
     "text": [
      " rmt_title  rmt_suite  rmt_standard  rmt_deluxe  rmt_bedroom  rmt_studio  rmt_superior  rmt_apartment  rmt_triple  rmt_premium  rmt_quadruple  rmt_villa  rmt_bungalow  rmt_cottage  rmt_single  rmt_dorm  rmt_cabin  rmt_grand  rmt_mini  rmt_non_suite  rmt_parlor  rmt_penthouse  rmt_pod  rmt_residence  rmt_room  rmt_twin  bdt_king  bdt_double  bdt_queen  bdt_twin  bdt_single  bdt_full  bdc_more  rmc_more  prmf_free_breakfast  prmf_half_board  prmf_welcome_item  prmf_all_inclusive  prmf_full_board  prmf_free_dinner  rtf_other_item_or_credit_included  rtf_fee_included  rtf_free_parking  rmf_no_smoking  rmf_accessible  rmf_extra_bedding  rmf_smoking  rmf_balcony  rmf_terrace  rmv_good  rmv_better  rmv_standard  rmv_best  rmv_non \n",
      "Deluxe Room, 2 Double Beds, Smoking\n",
      "rmt_deluxe=100.0% rmt_room=100.0% bdt_double=99.91% rmf_smoking=30.51% \n",
      "\n",
      "Deluxe Room, 2 Double Beds, Smoking Food/Beverage Credit\n",
      "rmt_title=99.22% rmt_deluxe=100.0% rmt_room=100.0% bdt_double=99.92% rmf_smoking=88.16% \n",
      "\n",
      "Deluxe Room, 2 Double Beds, Non Smoking, Strip View\n",
      "rmt_title=92.08% rmt_suite=7.13% rmt_deluxe=100.0% rmt_bedroom=7.55% rmt_room=100.0% bdt_double=100.0% rmv_good=8.63% \n",
      "\n",
      "Deluxe Room, 2 Double Beds, Non Smoking, Strip View Food/Beverage Credit\n",
      "rmt_title=92.83% rmt_suite=12.35% rmt_deluxe=100.0% rmt_bedroom=47.66% rmt_room=100.0% bdt_double=100.0% rmf_no_smoking=25.45% rmv_good=11.08% \n",
      "\n",
      "Deluxe Room, 2 Double Beds, High Roller View\n",
      "rmt_title=84.72% rmt_deluxe=100.0% rmt_room=100.0% bdt_double=100.0% rmv_good=10.81% \n",
      "\n",
      "Deluxe Room, 2 Double Beds, High Roller View Food/Beverage Credit\n",
      "rmt_title=98.93% rmt_deluxe=100.0% rmt_room=100.0% bdt_double=100.0% rmv_good=14.39% \n",
      "\n",
      "Deluxe Room, 2 Queen Beds, Non Smoking\n",
      "rmt_deluxe=100.0% rmt_room=100.0% bdt_queen=100.0% rmf_no_smoking=100.0% \n",
      "\n",
      "Deluxe Room, 2 Queen Beds, Non Smoking Food/Beverage Credit\n",
      "rmt_title=13.24% rmt_deluxe=100.0% rmt_room=100.0% bdt_queen=100.0% rmf_no_smoking=99.83% \n",
      "\n",
      "Deluxe Room, 1 King Bed, Non Smoking, High Roller View\n",
      "rmt_title=53.06% rmt_deluxe=100.0% rmt_room=100.0% bdt_king=99.99% rmf_no_smoking=83.08% rmv_good=14.28% \n",
      "\n",
      "Deluxe Room, 1 King Bed, Non Smoking, High Roller View Food/Beverage Credit\n",
      "rmt_title=91.9% rmt_deluxe=100.0% rmt_room=100.0% bdt_king=100.0% rmf_no_smoking=5.02% rmv_good=16.68% \n",
      "\n",
      "Deluxe Room, 2 Queen Beds, High Roller View\n",
      "rmt_title=89.71% rmt_deluxe=100.0% rmt_room=100.0% bdt_queen=100.0% rmv_good=37.86% \n",
      "\n",
      "Deluxe Room, 2 Queen Beds, High Roller View Food/Beverage Credit\n",
      "rmt_title=99.54% rmt_suite=74.26% rmt_deluxe=100.0% rmt_room=100.0% bdt_queen=100.0% rmv_good=35.04% rmv_standard=7.79% \n",
      "\n",
      "Luxury Room, 1 King Bed, Non Smoking\n",
      "rmt_title=79.1% rmt_room=100.0% bdt_king=100.0% rmf_no_smoking=100.0% \n",
      "\n",
      "Luxury Room, 1 King Bed, Non Smoking Food/Beverage Credit\n",
      "rmt_title=99.99% rmt_room=99.98% bdt_king=100.0% rmf_no_smoking=38.35% \n",
      "\n",
      "Luxury Room, 2 Double Beds, Non Smoking\n",
      "rmt_title=88.65% rmt_room=100.0% bdt_double=83.57% rmf_no_smoking=100.0% \n",
      "\n",
      "Luxury Room, 2 Double Beds, Non Smoking Food/Beverage Credit\n",
      "rmt_title=100.0% rmt_room=100.0% bdt_double=99.97% rmf_no_smoking=100.0% \n",
      "\n",
      "Suite, 1 King Bed, Non Smoking\n",
      "rmt_title=5.11% rmt_suite=100.0% rmt_bedroom=39.3% rmt_room=21.38% bdt_king=100.0% rmf_no_smoking=100.0% \n",
      "\n",
      "Deluxe Bungalow, 1 King Bed, Non Smoking, Poolside\n",
      "rmt_title=26.76% rmt_deluxe=100.0% rmt_bedroom=74.94% rmt_apartment=81.94% rmt_room=87.91% bdt_king=99.82% rmf_no_smoking=100.0% rmf_accessible=7.54% rmf_extra_bedding=6.4% \n",
      "\n",
      "Deluxe Poolside Cabana, 2 Doubles, Non-Smoking\n",
      "rmt_title=99.34% rmt_deluxe=100.0% bdt_double=100.0% rmf_no_smoking=100.0% \n",
      "\n"
     ]
    }
   ],
   "source": [
    "for i in range(num_classes): \n",
    "    print(' ' + encoder.classes_[i], end=\" \")  \n",
    "print('')\n",
    "\n",
    "counter=0\n",
    "for room_features in results:\n",
    "  print(raw_test[counter])\n",
    "  label_index = 0\n",
    "  for p in room_features:\n",
    "    if p > 0.05 :\n",
    "        print(encoder.classes_[label_index] + '=' + str(round(p * 100, 2)) + '%', end=\" \")\n",
    "    label_index += 1\n",
    "  counter += 1\n",
    "  print('\\n')\n"
   ]
  }
 ],
 "metadata": {
  "colab": {
   "collapsed_sections": [],
   "include_colab_link": true,
   "name": "text_explore.ipynb",
   "provenance": [],
   "version": "0.3.2"
  },
  "kernelspec": {
   "display_name": "Python 3",
   "language": "python",
   "name": "python3"
  },
  "language_info": {
   "codemirror_mode": {
    "name": "ipython",
    "version": 3
   },
   "file_extension": ".py",
   "mimetype": "text/x-python",
   "name": "python",
   "nbconvert_exporter": "python",
   "pygments_lexer": "ipython3",
   "version": "3.6.8"
  }
 },
 "nbformat": 4,
 "nbformat_minor": 2
}
